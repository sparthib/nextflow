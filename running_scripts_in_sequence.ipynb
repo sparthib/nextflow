{
  "cells": [
    {
      "cell_type": "raw",
      "metadata": {},
      "source": [
        "---\n",
        "title: \"Running Scripts in Sequence\"\n",
        "---"
      ],
      "id": "9fc1d20d"
    },
    {
      "cell_type": "markdown",
      "metadata": {},
      "source": [
        "In computational biology, where you very often every downstream step has its own script,\n",
        "\n",
        "for e.g., counts matrix QC and normalization -\\> Differential Gene Expression -\\> Visualization,\n",
        "\n",
        "it may be efficient to pack these scripts into a nextflow pipeline so that the same series of methods are used for different datasets.\n",
        "\n",
        "This is useful in big-scale projects where sequencing of new samples has to be done over several months or studies.\n",
        "\n",
        "Let's take a look at a simple example here.\n",
        "\n",
        "Say you have scripts, `matrix_QC.sh`, `diff_gene_exp.sh`, and `visualize.sh` that you want to run in sequence. You can define a single process that iterates through them.\n",
        "\n",
        "\n",
        "\n",
        "```{nextflow}\n",
        "process run_scripts {\n",
        "    input:\n",
        "    path script_list\n",
        "\n",
        "    output:\n",
        "    path \"output.log\"\n",
        "\n",
        "    script:\n",
        "    \"\"\"\n",
        "    while read script; do //script is read from the list\n",
        "        bash $script >> output.log // script execution happens\n",
        "    done < $script_list // all scripts have been executed\n",
        "    \"\"\"\n",
        "}\n",
        "\n",
        "workflow {\n",
        "    run_scripts(file('scripts_list.txt'))\n",
        "}\n",
        "```\n",
        "\n",
        "\n",
        "\n",
        "Where `scripts_list.txt` contains:\n",
        "\n",
        "\n",
        "\n",
        "```{txt}\n",
        "matrix_QC.sh\n",
        "diff_gene_exp.sh\n",
        "visualize.sh\n",
        "```\n",
        "\n",
        "\n",
        "\n",
        "This will run the scripts in sequence and output the logs to `output.log`."
      ],
      "id": "a0cd0d4e"
    }
  ],
  "metadata": {
    "kernelspec": {
      "name": "python3",
      "language": "python",
      "display_name": "Python 3 (ipykernel)"
    }
  },
  "nbformat": 4,
  "nbformat_minor": 5
}